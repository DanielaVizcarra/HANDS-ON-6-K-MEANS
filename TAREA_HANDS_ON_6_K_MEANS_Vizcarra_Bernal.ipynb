{
  "nbformat": 4,
  "nbformat_minor": 0,
  "metadata": {
    "colab": {
      "provenance": [],
      "authorship_tag": "ABX9TyND4E7xxUUDydAd1+PGbfis",
      "include_colab_link": true
    },
    "kernelspec": {
      "name": "python3",
      "display_name": "Python 3"
    },
    "language_info": {
      "name": "python"
    }
  },
  "cells": [
    {
      "cell_type": "markdown",
      "metadata": {
        "id": "view-in-github",
        "colab_type": "text"
      },
      "source": [
        "<a href=\"https://colab.research.google.com/github/DanielaVizcarra/HANDS-ON-6-K-MEANS/blob/main/TAREA_HANDS_ON_6_K_MEANS_Vizcarra_Bernal.ipynb\" target=\"_parent\"><img src=\"https://colab.research.google.com/assets/colab-badge.svg\" alt=\"Open In Colab\"/></a>"
      ]
    },
    {
      "cell_type": "markdown",
      "source": [
        "Creamos nuestra clase Dataset con los datos que vamos a trabajar, ademas sus métodos getX y getY  que devuelven estas listas."
      ],
      "metadata": {
        "id": "zd8sIuOghUk7"
      }
    },
    {
      "cell_type": "code",
      "source": [
        "class Dataset:\n",
        "    def __init__(self):\n",
        "        self.X = [\n",
        "            50, 80, 97, 45, 61, 52, 78, 58, 42, 76, 83, 69\n",
        "        ]\n",
        "        self.Y = [\n",
        "            1.48, 1.82, 1.76, 1.55, 1.60, 1.87, 1.82, 1.68, 1.85, 1.72, 1.60, 1.59\n",
        "        ]\n",
        "\n",
        "    def getX(self):#Obtenemos el valor de X y Y, get accede a los datos de X y Y mietras que self.-  accede al atributo X o Y  instanciados dentro del objeto de la clase\n",
        "        return self.X\n",
        "\n",
        "    def getY(self):\n",
        "        return self.Y"
      ],
      "metadata": {
        "id": "zE1bp3IEhTXd"
      },
      "execution_count": 101,
      "outputs": []
    },
    {
      "cell_type": "markdown",
      "source": [
        "La clase kmeans tiene todos los metodos de implemnetacion que vamos a necesitar para trabajar con nuestro data set y los datos que cada lista contiene.\n",
        "definimos k,inicializamos centroides, los clusters."
      ],
      "metadata": {
        "id": "VPq8PNKPiHVx"
      }
    },
    {
      "cell_type": "code",
      "source": [
        "class KMeans:\n",
        "    def __init__(self, k=3, max_iter=100, centroides_iniciales=None):\n",
        "        # Parámetros del modelo K-Means\n",
        "        self.k = k\n",
        "        self.max_iter = max_iter\n",
        "        self.centroides = centroides_iniciales or []\n",
        "\n",
        "    def distancia(self, p1, p2):\n",
        "        # Calculamos la distancia euclidiana entre dos puntos\n",
        "        return ((p1[0] - p2[0])**2 + (p1[1] - p2[1])**2)**0.5\n",
        "\n",
        "    def asignar_clusters(self, data):\n",
        "        # Asignamos cada punto al cluster cuyo centroide está más cercano\n",
        "        clusters = []\n",
        "        for punto in data:\n",
        "            distancias = [self.distancia(punto, centroide) for centroide in self.centroides]\n",
        "            cluster_asignado = distancias.index(min(distancias))\n",
        "            clusters.append(cluster_asignado)\n",
        "        return clusters\n",
        "\n",
        "    def actualizar_centroides(self, data, clusters):\n",
        "        # se actualiza los centroides de los clusters basándose en los puntos asignados a cada cluster\n",
        "        nuevos_centroides = []\n",
        "        for i in range(self.k):\n",
        "            puntos_cluster = [data[j] for j in range(len(data)) if clusters[j] == i]\n",
        "            if puntos_cluster:\n",
        "                suma_puntos = [sum(p) for p in zip(*puntos_cluster)]\n",
        "                nuevos_centroides.append([x / len(puntos_cluster) for x in suma_puntos])\n",
        "            else:\n",
        "                nuevos_centroides.append(data[0])  # Puedes cambiar esto según tus necesidades\n",
        "        return nuevos_centroides\n",
        "\n",
        "    def fit(self, data):\n",
        "        # Ajusta el modelo K-Means a los datos dados, actualizando iterativamente los clusters y centroides\n",
        "        if not self.centroides:\n",
        "            raise ValueError(\"Debes proporcionar centroides iniciales.\")\n",
        "\n",
        "        for _ in range(self.max_iter):\n",
        "            # Asigna los clústeres\n",
        "            clusters = self.asignar_clusters(data)\n",
        "\n",
        "            # Actualiza los centroides\n",
        "            nuevos_centroides = self.actualizar_centroides(data, clusters)\n",
        "\n",
        "            # Verificar convergencia para que no se cicle\n",
        "            if self.centroides == nuevos_centroides:\n",
        "                break\n",
        "\n",
        "            self.centroides = nuevos_centroides\n",
        "\n",
        "        return clusters\n",
        "\n",
        "    def plot_clusters(self, data, clusters):\n",
        "        # Visualizacion de los clusters y centroides en un gráfico de dispersión\n",
        "        colores = ['#5dc1b9', '#572364',]\n",
        "        for i in range(self.k):\n",
        "            puntos_cluster = [data[j] for j in range(len(data)) if clusters[j] == i]\n",
        "            plt.scatter([p[0] for p in puntos_cluster], [p[1] for p in puntos_cluster], c=colores[i], label=f'Cluster {i + 1}')\n",
        "\n",
        "        plt.scatter([c[0] for c in self.centroides], [c[1] for c in self.centroides], c='black', marker='*', s=200, label='Centroides')\n",
        "        plt.xlabel('PESO')\n",
        "        plt.ylabel('ALTURA')\n",
        "        plt.legend()\n",
        "        plt.show()"
      ],
      "metadata": {
        "id": "FULV4xFtinlS"
      },
      "execution_count": 96,
      "outputs": []
    },
    {
      "cell_type": "markdown",
      "source": [
        "Luego instanciamos la clase Dataset y obtenemos los datos de getx y gety\n"
      ],
      "metadata": {
        "id": "EiZIxY5rmSeY"
      }
    },
    {
      "cell_type": "code",
      "source": [
        "dataset = Dataset()\n",
        "datos_x = dataset.getX()\n",
        "datos_y = dataset.getY()"
      ],
      "metadata": {
        "id": "ANGKY9oEmZD4"
      },
      "execution_count": 102,
      "outputs": []
    },
    {
      "cell_type": "markdown",
      "source": [
        "Combinamos los datos de X y Y para generar tuplas"
      ],
      "metadata": {
        "id": "nOj3DcJ7mZyw"
      }
    },
    {
      "cell_type": "code",
      "source": [
        "datos = list(zip(datos_x, datos_y))\n",
        "print(\"Datos:\")\n",
        "for dato in datos:\n",
        "    print(dato)\n",
        "\n"
      ],
      "metadata": {
        "id": "SszT00IEml7W",
        "colab": {
          "base_uri": "https://localhost:8080/"
        },
        "outputId": "f2364bcd-aac7-4c7f-dcc7-384dde58a924"
      },
      "execution_count": 103,
      "outputs": [
        {
          "output_type": "stream",
          "name": "stdout",
          "text": [
            "Datos:\n",
            "(50, 1.48)\n",
            "(80, 1.82)\n",
            "(97, 1.76)\n",
            "(45, 1.55)\n",
            "(61, 1.6)\n",
            "(52, 1.87)\n",
            "(78, 1.82)\n",
            "(58, 1.68)\n",
            "(42, 1.85)\n",
            "(76, 1.72)\n",
            "(83, 1.6)\n",
            "(69, 1.59)\n"
          ]
        }
      ]
    },
    {
      "cell_type": "markdown",
      "source": [
        "Crea una instancia del modelo K-Means con tres clusters y ajusta el modelo a los datos, utilizando los primeros tres puntos como centroides iniciales."
      ],
      "metadata": {
        "id": "ohKPsIxamsDD"
      }
    },
    {
      "cell_type": "code",
      "source": [
        "# Crear y ajustar el modelo KMeans\n",
        "modelo_kmeans = KMeans(k=2, max_iter=100, centroides_iniciales=datos[:3])\n",
        "clusters_resultantes = modelo_kmeans.fit(datos)\n",
        "\n"
      ],
      "metadata": {
        "id": "JAst6zxWmwVA"
      },
      "execution_count": 108,
      "outputs": []
    },
    {
      "cell_type": "code",
      "source": [
        "# Visualizar los resultados\n",
        "modelo_kmeans.plot_clusters(datos, clusters_resultantes)"
      ],
      "metadata": {
        "colab": {
          "base_uri": "https://localhost:8080/",
          "height": 449
        },
        "id": "_I8sKuOcMjQb",
        "outputId": "4e592d1b-81cb-4f42-d36c-ad57bde9b574"
      },
      "execution_count": 109,
      "outputs": [
        {
          "output_type": "display_data",
          "data": {
            "text/plain": [
              "<Figure size 640x480 with 1 Axes>"
            ],
            "image/png": "[encoded data removed]"
          },
          "metadata": {}
        }
      ]
    }
  ]
}